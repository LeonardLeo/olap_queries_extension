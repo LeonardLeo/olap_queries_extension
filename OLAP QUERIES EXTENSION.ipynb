{
    "metadata": {
        "kernelspec": {
            "name": "SQL",
            "display_name": "SQL",
            "language": "sql"
        },
        "language_info": {
            "name": "sql",
            "version": ""
        }
    },
    "nbformat_minor": 2,
    "nbformat": 4,
    "cells": [
        {
            "cell_type": "markdown",
            "source": [
                "# **SQL Extension for OLAP**"
            ],
            "metadata": {
                "azdata_cell_guid": "caac8532-ca61-477c-a4bd-afb0f9015e1b"
            },
            "attachments": {}
        },
        {
            "cell_type": "markdown",
            "source": [
                "1) Rank Function"
            ],
            "metadata": {
                "azdata_cell_guid": "14474e77-aa74-4754-9c3e-c94d472aeb57"
            },
            "attachments": {}
        },
        {
            "cell_type": "code",
            "source": [
                "use Ocean_Blue_Sentries\r\n",
                "select FirstName, customerid, rank() over(order by CustomerID Desc) as n_rank\r\n",
                "from Customers"
            ],
            "metadata": {
                "azdata_cell_guid": "f64c68e0-4b5f-4e0e-9b58-1a57da6cc8b1",
                "language": "sql",
                "tags": []
            },
            "outputs": [],
            "execution_count": null
        },
        {
            "cell_type": "code",
            "source": [
                "use Ocean_Blue_Sentries\r\n",
                "select Top 5 FirstName, rank() over(order by CustomerID Desc) as n_rank\r\n",
                "from Customers"
            ],
            "metadata": {
                "azdata_cell_guid": "db09a73e-2161-44fe-8996-3150cc8f6860",
                "language": "sql"
            },
            "outputs": [],
            "execution_count": null
        },
        {
            "cell_type": "markdown",
            "source": [
                "2) N-Tile Function"
            ],
            "metadata": {
                "azdata_cell_guid": "acec3879-f912-4798-9f97-3491ebeaac35"
            },
            "attachments": {}
        },
        {
            "cell_type": "code",
            "source": [
                "use Ocean_Blue_Sentries\r\n",
                "SELECT FirstName, LastName, NTILE(2) OVER (ORDER BY CustomerID) AS quartile\r\n",
                "FROM customers;"
            ],
            "metadata": {
                "azdata_cell_guid": "14838858-6202-4a9d-a1a2-fe71859e7f4a",
                "language": "sql",
                "tags": []
            },
            "outputs": [],
            "execution_count": null
        },
        {
            "cell_type": "markdown",
            "source": [
                "3) Roll-Up Function"
            ],
            "metadata": {
                "azdata_cell_guid": "8c941129-fc6f-4e3c-ab15-68b895175237"
            },
            "attachments": {}
        },
        {
            "cell_type": "code",
            "source": [
                "use Ocean_Blue_Sentries\r\n",
                "select saleid, customerid, sum(TotalAmount)\r\n",
                "from dbo.sales\r\n",
                "group by rollup(saleid, customerid)"
            ],
            "metadata": {
                "azdata_cell_guid": "363eef8c-5c9a-44eb-93cb-7a48c6f3db95",
                "language": "sql"
            },
            "outputs": [],
            "execution_count": null
        },
        {
            "cell_type": "code",
            "source": [
                "use master\r\n",
                "select genre, platform, publisher, sum(NA_Sales) as Total_NA_Sales\r\n",
                "from dbo.vgsales\r\n",
                "group by rollup(genre, platform, publisher)"
            ],
            "metadata": {
                "language": "sql",
                "azdata_cell_guid": "1a408758-a5d9-42f1-b1fd-1637c6a15826"
            },
            "outputs": [],
            "execution_count": null
        },
        {
            "cell_type": "code",
            "source": [
                "use checkpoint_database\r\n",
                "select year, quarter, namemonth, count(iddate) as total_orders\r\n",
                "from Date\r\n",
                "group by rollup(year, quarter, namemonth)"
            ],
            "metadata": {
                "language": "sql",
                "azdata_cell_guid": "7566cf1b-1671-4171-bc68-01775919bd08"
            },
            "outputs": [],
            "execution_count": null
        },
        {
            "cell_type": "markdown",
            "source": [
                "4. Cube Function"
            ],
            "metadata": {
                "azdata_cell_guid": "517b7c0c-67d2-4083-aa22-56f4d1029dd8"
            },
            "attachments": {}
        },
        {
            "cell_type": "code",
            "source": [
                "use master\r\n",
                "select genre, platform, publisher, sum(NA_Sales) as Total_NA_Sales\r\n",
                "from dbo.vgsales\r\n",
                "group by cube(genre, platform, publisher)"
            ],
            "metadata": {
                "azdata_cell_guid": "9c1aa25c-af79-40fc-84d4-e0605dee0012",
                "language": "sql"
            },
            "outputs": [],
            "execution_count": null
        },
        {
            "cell_type": "code",
            "source": [
                "use checkpoint_database\r\n",
                "select year, quarter, namemonth, count(iddate) as total_orders\r\n",
                "from Date\r\n",
                "group by cube(year, quarter, namemonth)"
            ],
            "metadata": {
                "language": "sql",
                "azdata_cell_guid": "113926f8-c9c5-499a-bb9a-4ab4c15334e9"
            },
            "outputs": [],
            "execution_count": null
        },
        {
            "cell_type": "markdown",
            "source": [
                "5) Grouping Sets Function"
            ],
            "metadata": {
                "language": "sql",
                "azdata_cell_guid": "c087861b-d4d8-4784-b72e-b4d475d40d8d"
            },
            "attachments": {}
        },
        {
            "cell_type": "code",
            "source": [
                "use master\r\n",
                "select genre, publisher, platform, sum(NA_Sales) as Total_NA_Sales\r\n",
                "from dbo.vgsales\r\n",
                "group by grouping sets(\r\n",
                "    (genre, platform), \r\n",
                "    (publisher, platform), \r\n",
                "    (platform),\r\n",
                "    (genre),\r\n",
                "    ()\r\n",
                ")"
            ],
            "metadata": {
                "language": "sql",
                "azdata_cell_guid": "72e80349-fa7a-4175-9dd8-aab2e967dea5"
            },
            "outputs": [],
            "execution_count": null
        },
        {
            "cell_type": "code",
            "source": [
                "use checkpoint_database\r\n",
                "select year, quarter, namemonth, count(iddate) as total_orders\r\n",
                "from Date\r\n",
                "group by grouping sets(\r\n",
                "    (year, quarter),\r\n",
                "    (year, namemonth),\r\n",
                "    ()\r\n",
                "    )"
            ],
            "metadata": {
                "language": "sql",
                "azdata_cell_guid": "ea18400a-d6c7-4037-a793-83c383264812"
            },
            "outputs": [],
            "execution_count": null
        }
    ]
}